{
 "cells": [
  {
   "cell_type": "code",
   "execution_count": 333,
   "metadata": {},
   "outputs": [
    {
     "data": {
      "text/plain": [
       "solve! (generic function with 5 methods)"
      ]
     },
     "execution_count": 333,
     "metadata": {},
     "output_type": "execute_result"
    }
   ],
   "source": [
    "import Convex\n",
    "using LinearAlgebra, Plots\n",
    "include(\"z3_utility.jl\")\n",
    "include(\"smc.jl\")"
   ]
  },
  {
   "cell_type": "code",
   "execution_count": 334,
   "metadata": {},
   "outputs": [
    {
     "data": {
      "text/plain": [
       "Variable\n",
       "size: (10, 1)\n",
       "sign: real\n",
       "vexity: affine\n",
       "id: 260…973"
      ]
     },
     "execution_count": 334,
     "metadata": {},
     "output_type": "execute_result"
    }
   ],
   "source": [
    "# In this problem we want to plan a 2D trajectory x,y over N steps\n",
    "# TODO we may complicate it later by adding a quadratic approximation to nonlinear dynamics\n",
    "\n",
    "N = 10\n",
    "x = Variable(N, :Real)\n",
    "y = Variable(N, :Real)"
   ]
  },
  {
   "cell_type": "code",
   "execution_count": 335,
   "metadata": {},
   "outputs": [
    {
     "data": {
      "text/plain": [
       "plot_env (generic function with 1 method)"
      ]
     },
     "execution_count": 335,
     "metadata": {},
     "output_type": "execute_result"
    }
   ],
   "source": [
    "x_world = [0.,10.]\n",
    "y_world = [0.,5.]\n",
    "bounds = [0.,0.,10.,5.]\n",
    "start   = [0.25,0.25]\n",
    "goal    = [9.75, 2.]\n",
    "\n",
    "# obstacles are represented by two corners (x1, y1, x2, y2)\n",
    "obs_1 = [2.,0.,4.,3.]\n",
    "obs_2 = [7.,1.,9.,3.5]\n",
    "obs_3 = [7.,4.,9.,5.]\n",
    "\n",
    "plot_rect(obs) = (obs[[1,3,3,1,1]], obs[[2,2,4,4,2]])\n",
    "\n",
    "function plot_env()\n",
    "    plot(plot_rect(bounds)..., color=:green, xlim=x_world, ylim=y_world, primary=false)\n",
    "    plot!(plot_rect(obs_1)..., color=:red, primary=false)\n",
    "    plot!(plot_rect(obs_2)..., color=:red, primary=false)\n",
    "    plot!(plot_rect(obs_3)..., color=:red, primary=false)\n",
    "    scatter!(start[1:1], start[2:2], markersize=5, color=:blue)\n",
    "    scatter!(goal[1:1], goal[2:2], markersize=5, color=:orange, marker=:star)\n",
    "end"
   ]
  },
  {
   "cell_type": "code",
   "execution_count": 336,
   "metadata": {},
   "outputs": [
    {
     "data": {
      "text/plain": [
       "outside_box_in_interval (generic function with 3 methods)"
      ]
     },
     "execution_count": 336,
     "metadata": {},
     "output_type": "execute_result"
    }
   ],
   "source": [
    "function outside_box_at_step(xi, yi, box::Array{Float64}) :: Array{NodeType}\n",
    "    x1, y1, x2, y2 = box\n",
    "    return [(xi <= x1) ∨ (xi >= x2), (yi <= y1) ∨ (yi >= y2)]\n",
    "end\n",
    "function outside_box_in_interval(x, y, box, N1=1, N2=Inf)\n",
    "    if length(x) != length(y)\n",
    "        println(\"Warning: x and y are different lengths\")\n",
    "    end\n",
    "    if isinf(N2)\n",
    "        N2 = min(length(x), length(y))\n",
    "    end\n",
    "    return reduce(vcat, map( (i) -> outside_box_at_step(x[i], y[i], box), N1:N2 ))\n",
    "end"
   ]
  },
  {
   "cell_type": "code",
   "execution_count": 342,
   "metadata": {
    "scrolled": true
   },
   "outputs": [
    {
     "name": "stdout",
     "output_type": "stream",
     "text": [
      "optval -1.1375160235296408e-7\n"
     ]
    }
   ],
   "source": [
    "umax = 10.0\n",
    "control_bounds = map( (i) -> Convex.square(x[i]) + Convex.square(y[i]) <= umax, 1:N )\n",
    "\n",
    "constraints = vcat([(x >= bounds[1])∧ (y >= bounds[2])∧(x <= bounds[3])∧ (y <= bounds[4])],\n",
    "    [(x[1] == start[1])∧ (y[1] == start[2])∧ (x[end] == goal[1])∧ (y[end] == goal[2])],\n",
    "                 #  control_bounds,\n",
    "                   outside_box_in_interval(x, y, obs_1),\n",
    "                  # outside_box_in_interval(x, y, obs_2),\n",
    "                 #  outside_box_in_interval(x, y, obs_3),\n",
    "                  )\n",
    "\n",
    "problem = SmcProblem(constraints)\n",
    "solve!(problem)"
   ]
  },
  {
   "cell_type": "code",
   "execution_count": null,
   "metadata": {},
   "outputs": [],
   "source": []
  },
  {
   "cell_type": "code",
   "execution_count": 338,
   "metadata": {},
   "outputs": [
    {
     "data": {
      "image/svg+xml": [
       "<?xml version=\"1.0\" encoding=\"utf-8\"?>\n",
       "<svg xmlns=\"http://www.w3.org/2000/svg\" xmlns:xlink=\"http://www.w3.org/1999/xlink\" width=\"600\" height=\"400\" viewBox=\"0 0 2400 1600\">\n",
       "<defs>\n",
       "  <clipPath id=\"clip670\">\n",
       "    <rect x=\"0\" y=\"0\" width=\"2400\" height=\"1600\"/>\n",
       "  </clipPath>\n",
       "</defs>\n",
       "<path clip-path=\"url(#clip670)\" d=\"\n",
       "M0 1600 L2400 1600 L2400 0 L0 0  Z\n",
       "  \" fill=\"#ffffff\" fill-rule=\"evenodd\" fill-opacity=\"1\"/>\n",
       "<defs>\n",
       "  <clipPath id=\"clip671\">\n",
       "    <rect x=\"480\" y=\"0\" width=\"1681\" height=\"1600\"/>\n",
       "  </clipPath>\n",
       "</defs>\n",
       "<path clip-path=\"url(#clip670)\" d=\"\n",
       "M112.177 1486.45 L2352.76 1486.45 L2352.76 47.2441 L112.177 47.2441  Z\n",
       "  \" fill=\"#ffffff\" fill-rule=\"evenodd\" fill-opacity=\"1\"/>\n",
       "<defs>\n",
       "  <clipPath id=\"clip672\">\n",
       "    <rect x=\"112\" y=\"47\" width=\"2242\" height=\"1440\"/>\n",
       "  </clipPath>\n",
       "</defs>\n",
       "<polyline clip-path=\"url(#clip672)\" style=\"stroke:#000000; stroke-linecap:butt; stroke-linejoin:round; stroke-width:2; stroke-opacity:0.1; fill:none\" points=\"\n",
       "  175.59,1486.45 175.59,47.2441 \n",
       "  \"/>\n",
       "<polyline clip-path=\"url(#clip672)\" style=\"stroke:#000000; stroke-linecap:butt; stroke-linejoin:round; stroke-width:2; stroke-opacity:0.1; fill:none\" points=\"\n",
       "  704.028,1486.45 704.028,47.2441 \n",
       "  \"/>\n",
       "<polyline clip-path=\"url(#clip672)\" style=\"stroke:#000000; stroke-linecap:butt; stroke-linejoin:round; stroke-width:2; stroke-opacity:0.1; fill:none\" points=\"\n",
       "  1232.47,1486.45 1232.47,47.2441 \n",
       "  \"/>\n",
       "<polyline clip-path=\"url(#clip672)\" style=\"stroke:#000000; stroke-linecap:butt; stroke-linejoin:round; stroke-width:2; stroke-opacity:0.1; fill:none\" points=\"\n",
       "  1760.9,1486.45 1760.9,47.2441 \n",
       "  \"/>\n",
       "<polyline clip-path=\"url(#clip672)\" style=\"stroke:#000000; stroke-linecap:butt; stroke-linejoin:round; stroke-width:2; stroke-opacity:0.1; fill:none\" points=\"\n",
       "  2289.34,1486.45 2289.34,47.2441 \n",
       "  \"/>\n",
       "<polyline clip-path=\"url(#clip670)\" style=\"stroke:#000000; stroke-linecap:butt; stroke-linejoin:round; stroke-width:4; stroke-opacity:1; fill:none\" points=\"\n",
       "  112.177,1486.45 2352.76,1486.45 \n",
       "  \"/>\n",
       "<polyline clip-path=\"url(#clip670)\" style=\"stroke:#000000; stroke-linecap:butt; stroke-linejoin:round; stroke-width:4; stroke-opacity:1; fill:none\" points=\"\n",
       "  175.59,1486.45 175.59,1467.55 \n",
       "  \"/>\n",
       "<polyline clip-path=\"url(#clip670)\" style=\"stroke:#000000; stroke-linecap:butt; stroke-linejoin:round; stroke-width:4; stroke-opacity:1; fill:none\" points=\"\n",
       "  704.028,1486.45 704.028,1467.55 \n",
       "  \"/>\n",
       "<polyline clip-path=\"url(#clip670)\" style=\"stroke:#000000; stroke-linecap:butt; stroke-linejoin:round; stroke-width:4; stroke-opacity:1; fill:none\" points=\"\n",
       "  1232.47,1486.45 1232.47,1467.55 \n",
       "  \"/>\n",
       "<polyline clip-path=\"url(#clip670)\" style=\"stroke:#000000; stroke-linecap:butt; stroke-linejoin:round; stroke-width:4; stroke-opacity:1; fill:none\" points=\"\n",
       "  1760.9,1486.45 1760.9,1467.55 \n",
       "  \"/>\n",
       "<polyline clip-path=\"url(#clip670)\" style=\"stroke:#000000; stroke-linecap:butt; stroke-linejoin:round; stroke-width:4; stroke-opacity:1; fill:none\" points=\"\n",
       "  2289.34,1486.45 2289.34,1467.55 \n",
       "  \"/>\n",
       "<path clip-path=\"url(#clip670)\" d=\"M152.974 1517.37 Q149.363 1517.37 147.534 1520.93 Q145.729 1524.47 145.729 1531.6 Q145.729 1538.71 147.534 1542.27 Q149.363 1545.82 152.974 1545.82 Q156.608 1545.82 158.414 1542.27 Q160.243 1538.71 160.243 1531.6 Q160.243 1524.47 158.414 1520.93 Q156.608 1517.37 152.974 1517.37 M152.974 1513.66 Q158.784 1513.66 161.84 1518.27 Q164.919 1522.85 164.919 1531.6 Q164.919 1540.33 161.84 1544.94 Q158.784 1549.52 152.974 1549.52 Q147.164 1549.52 144.085 1544.94 Q141.03 1540.33 141.03 1531.6 Q141.03 1522.85 144.085 1518.27 Q147.164 1513.66 152.974 1513.66 Z\" fill=\"#000000\" fill-rule=\"evenodd\" fill-opacity=\"1\" /><path clip-path=\"url(#clip670)\" d=\"M173.136 1542.97 L178.02 1542.97 L178.02 1548.85 L173.136 1548.85 L173.136 1542.97 Z\" fill=\"#000000\" fill-rule=\"evenodd\" fill-opacity=\"1\" /><path clip-path=\"url(#clip670)\" d=\"M198.205 1517.37 Q194.594 1517.37 192.766 1520.93 Q190.96 1524.47 190.96 1531.6 Q190.96 1538.71 192.766 1542.27 Q194.594 1545.82 198.205 1545.82 Q201.84 1545.82 203.645 1542.27 Q205.474 1538.71 205.474 1531.6 Q205.474 1524.47 203.645 1520.93 Q201.84 1517.37 198.205 1517.37 M198.205 1513.66 Q204.016 1513.66 207.071 1518.27 Q210.15 1522.85 210.15 1531.6 Q210.15 1540.33 207.071 1544.94 Q204.016 1549.52 198.205 1549.52 Q192.395 1549.52 189.317 1544.94 Q186.261 1540.33 186.261 1531.6 Q186.261 1522.85 189.317 1518.27 Q192.395 1513.66 198.205 1513.66 Z\" fill=\"#000000\" fill-rule=\"evenodd\" fill-opacity=\"1\" /><path clip-path=\"url(#clip670)\" d=\"M675.764 1544.91 L692.084 1544.91 L692.084 1548.85 L670.139 1548.85 L670.139 1544.91 Q672.801 1542.16 677.385 1537.53 Q681.991 1532.88 683.172 1531.53 Q685.417 1529.01 686.297 1527.27 Q687.2 1525.51 687.2 1523.82 Q687.2 1521.07 685.255 1519.33 Q683.334 1517.6 680.232 1517.6 Q678.033 1517.6 675.579 1518.36 Q673.149 1519.13 670.371 1520.68 L670.371 1515.95 Q673.195 1514.82 675.649 1514.24 Q678.102 1513.66 680.139 1513.66 Q685.51 1513.66 688.704 1516.35 Q691.899 1519.03 691.899 1523.52 Q691.899 1525.65 691.088 1527.57 Q690.301 1529.47 688.195 1532.07 Q687.616 1532.74 684.514 1535.95 Q681.413 1539.15 675.764 1544.91 Z\" fill=\"#000000\" fill-rule=\"evenodd\" fill-opacity=\"1\" /><path clip-path=\"url(#clip670)\" d=\"M701.899 1542.97 L706.783 1542.97 L706.783 1548.85 L701.899 1548.85 L701.899 1542.97 Z\" fill=\"#000000\" fill-rule=\"evenodd\" fill-opacity=\"1\" /><path clip-path=\"url(#clip670)\" d=\"M717.014 1514.29 L735.371 1514.29 L735.371 1518.22 L721.297 1518.22 L721.297 1526.7 Q722.315 1526.35 723.334 1526.19 Q724.352 1526 725.371 1526 Q731.158 1526 734.537 1529.17 Q737.917 1532.34 737.917 1537.76 Q737.917 1543.34 734.445 1546.44 Q730.972 1549.52 724.653 1549.52 Q722.477 1549.52 720.209 1549.15 Q717.963 1548.78 715.556 1548.04 L715.556 1543.34 Q717.639 1544.47 719.861 1545.03 Q722.084 1545.58 724.56 1545.58 Q728.565 1545.58 730.903 1543.48 Q733.241 1541.37 733.241 1537.76 Q733.241 1534.15 730.903 1532.04 Q728.565 1529.94 724.56 1529.94 Q722.685 1529.94 720.81 1530.35 Q718.959 1530.77 717.014 1531.65 L717.014 1514.29 Z\" fill=\"#000000\" fill-rule=\"evenodd\" fill-opacity=\"1\" /><path clip-path=\"url(#clip670)\" d=\"M1199.63 1514.29 L1217.99 1514.29 L1217.99 1518.22 L1203.91 1518.22 L1203.91 1526.7 Q1204.93 1526.35 1205.95 1526.19 Q1206.97 1526 1207.99 1526 Q1213.77 1526 1217.15 1529.17 Q1220.53 1532.34 1220.53 1537.76 Q1220.53 1543.34 1217.06 1546.44 Q1213.59 1549.52 1207.27 1549.52 Q1205.09 1549.52 1202.83 1549.15 Q1200.58 1548.78 1198.17 1548.04 L1198.17 1543.34 Q1200.26 1544.47 1202.48 1545.03 Q1204.7 1545.58 1207.18 1545.58 Q1211.18 1545.58 1213.52 1543.48 Q1215.86 1541.37 1215.86 1537.76 Q1215.86 1534.15 1213.52 1532.04 Q1211.18 1529.94 1207.18 1529.94 Q1205.3 1529.94 1203.43 1530.35 Q1201.58 1530.77 1199.63 1531.65 L1199.63 1514.29 Z\" fill=\"#000000\" fill-rule=\"evenodd\" fill-opacity=\"1\" /><path clip-path=\"url(#clip670)\" d=\"M1229.75 1542.97 L1234.63 1542.97 L1234.63 1548.85 L1229.75 1548.85 L1229.75 1542.97 Z\" fill=\"#000000\" fill-rule=\"evenodd\" fill-opacity=\"1\" /><path clip-path=\"url(#clip670)\" d=\"M1254.82 1517.37 Q1251.2 1517.37 1249.38 1520.93 Q1247.57 1524.47 1247.57 1531.6 Q1247.57 1538.71 1249.38 1542.27 Q1251.2 1545.82 1254.82 1545.82 Q1258.45 1545.82 1260.26 1542.27 Q1262.08 1538.71 1262.08 1531.6 Q1262.08 1524.47 1260.26 1520.93 Q1258.45 1517.37 1254.82 1517.37 M1254.82 1513.66 Q1260.63 1513.66 1263.68 1518.27 Q1266.76 1522.85 1266.76 1531.6 Q1266.76 1540.33 1263.68 1544.94 Q1260.63 1549.52 1254.82 1549.52 Q1249.01 1549.52 1245.93 1544.94 Q1242.87 1540.33 1242.87 1531.6 Q1242.87 1522.85 1245.93 1518.27 Q1249.01 1513.66 1254.82 1513.66 Z\" fill=\"#000000\" fill-rule=\"evenodd\" fill-opacity=\"1\" /><path clip-path=\"url(#clip670)\" d=\"M1727.22 1514.29 L1749.45 1514.29 L1749.45 1516.28 L1736.9 1548.85 L1732.02 1548.85 L1743.82 1518.22 L1727.22 1518.22 L1727.22 1514.29 Z\" fill=\"#000000\" fill-rule=\"evenodd\" fill-opacity=\"1\" /><path clip-path=\"url(#clip670)\" d=\"M1758.57 1542.97 L1763.45 1542.97 L1763.45 1548.85 L1758.57 1548.85 L1758.57 1542.97 Z\" fill=\"#000000\" fill-rule=\"evenodd\" fill-opacity=\"1\" /><path clip-path=\"url(#clip670)\" d=\"M1773.68 1514.29 L1792.04 1514.29 L1792.04 1518.22 L1777.97 1518.22 L1777.97 1526.7 Q1778.98 1526.35 1780 1526.19 Q1781.02 1526 1782.04 1526 Q1787.83 1526 1791.21 1529.17 Q1794.59 1532.34 1794.59 1537.76 Q1794.59 1543.34 1791.11 1546.44 Q1787.64 1549.52 1781.32 1549.52 Q1779.15 1549.52 1776.88 1549.15 Q1774.63 1548.78 1772.22 1548.04 L1772.22 1543.34 Q1774.31 1544.47 1776.53 1545.03 Q1778.75 1545.58 1781.23 1545.58 Q1785.23 1545.58 1787.57 1543.48 Q1789.91 1541.37 1789.91 1537.76 Q1789.91 1534.15 1787.57 1532.04 Q1785.23 1529.94 1781.23 1529.94 Q1779.35 1529.94 1777.48 1530.35 Q1775.63 1530.77 1773.68 1531.65 L1773.68 1514.29 Z\" fill=\"#000000\" fill-rule=\"evenodd\" fill-opacity=\"1\" /><path clip-path=\"url(#clip670)\" d=\"M2241.42 1544.91 L2249.05 1544.91 L2249.05 1518.55 L2240.74 1520.21 L2240.74 1515.95 L2249.01 1514.29 L2253.68 1514.29 L2253.68 1544.91 L2261.32 1544.91 L2261.32 1548.85 L2241.42 1548.85 L2241.42 1544.91 Z\" fill=\"#000000\" fill-rule=\"evenodd\" fill-opacity=\"1\" /><path clip-path=\"url(#clip670)\" d=\"M2280.77 1517.37 Q2277.16 1517.37 2275.33 1520.93 Q2273.52 1524.47 2273.52 1531.6 Q2273.52 1538.71 2275.33 1542.27 Q2277.16 1545.82 2280.77 1545.82 Q2284.4 1545.82 2286.21 1542.27 Q2288.04 1538.71 2288.04 1531.6 Q2288.04 1524.47 2286.21 1520.93 Q2284.4 1517.37 2280.77 1517.37 M2280.77 1513.66 Q2286.58 1513.66 2289.63 1518.27 Q2292.71 1522.85 2292.71 1531.6 Q2292.71 1540.33 2289.63 1544.94 Q2286.58 1549.52 2280.77 1549.52 Q2274.96 1549.52 2271.88 1544.94 Q2268.82 1540.33 2268.82 1531.6 Q2268.82 1522.85 2271.88 1518.27 Q2274.96 1513.66 2280.77 1513.66 Z\" fill=\"#000000\" fill-rule=\"evenodd\" fill-opacity=\"1\" /><path clip-path=\"url(#clip670)\" d=\"M2300.93 1542.97 L2305.81 1542.97 L2305.81 1548.85 L2300.93 1548.85 L2300.93 1542.97 Z\" fill=\"#000000\" fill-rule=\"evenodd\" fill-opacity=\"1\" /><path clip-path=\"url(#clip670)\" d=\"M2326 1517.37 Q2322.39 1517.37 2320.56 1520.93 Q2318.75 1524.47 2318.75 1531.6 Q2318.75 1538.71 2320.56 1542.27 Q2322.39 1545.82 2326 1545.82 Q2329.63 1545.82 2331.44 1542.27 Q2333.27 1538.71 2333.27 1531.6 Q2333.27 1524.47 2331.44 1520.93 Q2329.63 1517.37 2326 1517.37 M2326 1513.66 Q2331.81 1513.66 2334.86 1518.27 Q2337.94 1522.85 2337.94 1531.6 Q2337.94 1540.33 2334.86 1544.94 Q2331.81 1549.52 2326 1549.52 Q2320.19 1549.52 2317.11 1544.94 Q2314.05 1540.33 2314.05 1531.6 Q2314.05 1522.85 2317.11 1518.27 Q2320.19 1513.66 2326 1513.66 Z\" fill=\"#000000\" fill-rule=\"evenodd\" fill-opacity=\"1\" /><polyline clip-path=\"url(#clip672)\" style=\"stroke:#000000; stroke-linecap:butt; stroke-linejoin:round; stroke-width:2; stroke-opacity:0.1; fill:none\" points=\"\n",
       "  112.177,1445.72 2352.76,1445.72 \n",
       "  \"/>\n",
       "<polyline clip-path=\"url(#clip672)\" style=\"stroke:#000000; stroke-linecap:butt; stroke-linejoin:round; stroke-width:2; stroke-opacity:0.1; fill:none\" points=\"\n",
       "  112.177,1174.17 2352.76,1174.17 \n",
       "  \"/>\n",
       "<polyline clip-path=\"url(#clip672)\" style=\"stroke:#000000; stroke-linecap:butt; stroke-linejoin:round; stroke-width:2; stroke-opacity:0.1; fill:none\" points=\"\n",
       "  112.177,902.62 2352.76,902.62 \n",
       "  \"/>\n",
       "<polyline clip-path=\"url(#clip672)\" style=\"stroke:#000000; stroke-linecap:butt; stroke-linejoin:round; stroke-width:2; stroke-opacity:0.1; fill:none\" points=\"\n",
       "  112.177,631.072 2352.76,631.072 \n",
       "  \"/>\n",
       "<polyline clip-path=\"url(#clip672)\" style=\"stroke:#000000; stroke-linecap:butt; stroke-linejoin:round; stroke-width:2; stroke-opacity:0.1; fill:none\" points=\"\n",
       "  112.177,359.524 2352.76,359.524 \n",
       "  \"/>\n",
       "<polyline clip-path=\"url(#clip672)\" style=\"stroke:#000000; stroke-linecap:butt; stroke-linejoin:round; stroke-width:2; stroke-opacity:0.1; fill:none\" points=\"\n",
       "  112.177,87.9763 2352.76,87.9763 \n",
       "  \"/>\n",
       "<polyline clip-path=\"url(#clip670)\" style=\"stroke:#000000; stroke-linecap:butt; stroke-linejoin:round; stroke-width:4; stroke-opacity:1; fill:none\" points=\"\n",
       "  112.177,1486.45 112.177,47.2441 \n",
       "  \"/>\n",
       "<polyline clip-path=\"url(#clip670)\" style=\"stroke:#000000; stroke-linecap:butt; stroke-linejoin:round; stroke-width:4; stroke-opacity:1; fill:none\" points=\"\n",
       "  112.177,1445.72 131.075,1445.72 \n",
       "  \"/>\n",
       "<polyline clip-path=\"url(#clip670)\" style=\"stroke:#000000; stroke-linecap:butt; stroke-linejoin:round; stroke-width:4; stroke-opacity:1; fill:none\" points=\"\n",
       "  112.177,1174.17 131.075,1174.17 \n",
       "  \"/>\n",
       "<polyline clip-path=\"url(#clip670)\" style=\"stroke:#000000; stroke-linecap:butt; stroke-linejoin:round; stroke-width:4; stroke-opacity:1; fill:none\" points=\"\n",
       "  112.177,902.62 131.075,902.62 \n",
       "  \"/>\n",
       "<polyline clip-path=\"url(#clip670)\" style=\"stroke:#000000; stroke-linecap:butt; stroke-linejoin:round; stroke-width:4; stroke-opacity:1; fill:none\" points=\"\n",
       "  112.177,631.072 131.075,631.072 \n",
       "  \"/>\n",
       "<polyline clip-path=\"url(#clip670)\" style=\"stroke:#000000; stroke-linecap:butt; stroke-linejoin:round; stroke-width:4; stroke-opacity:1; fill:none\" points=\"\n",
       "  112.177,359.524 131.075,359.524 \n",
       "  \"/>\n",
       "<polyline clip-path=\"url(#clip670)\" style=\"stroke:#000000; stroke-linecap:butt; stroke-linejoin:round; stroke-width:4; stroke-opacity:1; fill:none\" points=\"\n",
       "  112.177,87.9763 131.075,87.9763 \n",
       "  \"/>\n",
       "<path clip-path=\"url(#clip670)\" d=\"M64.2328 1431.51 Q60.6217 1431.51 58.793 1435.08 Q56.9875 1438.62 56.9875 1445.75 Q56.9875 1452.86 58.793 1456.42 Q60.6217 1459.96 64.2328 1459.96 Q67.867 1459.96 69.6726 1456.42 Q71.5013 1452.86 71.5013 1445.75 Q71.5013 1438.62 69.6726 1435.08 Q67.867 1431.51 64.2328 1431.51 M64.2328 1427.81 Q70.0429 1427.81 73.0985 1432.42 Q76.1772 1437 76.1772 1445.75 Q76.1772 1454.48 73.0985 1459.08 Q70.0429 1463.67 64.2328 1463.67 Q58.4226 1463.67 55.344 1459.08 Q52.2884 1454.48 52.2884 1445.75 Q52.2884 1437 55.344 1432.42 Q58.4226 1427.81 64.2328 1427.81 Z\" fill=\"#000000\" fill-rule=\"evenodd\" fill-opacity=\"1\" /><path clip-path=\"url(#clip670)\" d=\"M56.2699 1187.51 L63.9087 1187.51 L63.9087 1161.15 L55.5986 1162.81 L55.5986 1158.55 L63.8624 1156.89 L68.5383 1156.89 L68.5383 1187.51 L76.1772 1187.51 L76.1772 1191.45 L56.2699 1191.45 L56.2699 1187.51 Z\" fill=\"#000000\" fill-rule=\"evenodd\" fill-opacity=\"1\" /><path clip-path=\"url(#clip670)\" d=\"M59.8578 915.965 L76.1772 915.965 L76.1772 919.9 L54.2328 919.9 L54.2328 915.965 Q56.8949 913.21 61.4782 908.581 Q66.0846 903.928 67.2652 902.585 Q69.5105 900.062 70.3902 898.326 Q71.2929 896.567 71.2929 894.877 Q71.2929 892.122 69.3485 890.386 Q67.4272 888.65 64.3254 888.65 Q62.1263 888.65 59.6726 889.414 Q57.2421 890.178 54.4643 891.729 L54.4643 887.007 Q57.2884 885.872 59.7421 885.294 Q62.1958 884.715 64.2328 884.715 Q69.6031 884.715 72.7976 887.4 Q75.992 890.085 75.992 894.576 Q75.992 896.706 75.1818 898.627 Q74.3948 900.525 72.2883 903.118 Q71.7096 903.789 68.6078 907.006 Q65.5059 910.201 59.8578 915.965 Z\" fill=\"#000000\" fill-rule=\"evenodd\" fill-opacity=\"1\" /><path clip-path=\"url(#clip670)\" d=\"M69.0476 629.718 Q72.404 630.435 74.279 632.704 Q76.1772 634.972 76.1772 638.306 Q76.1772 643.422 72.6587 646.222 Q69.1402 649.023 62.6587 649.023 Q60.4828 649.023 58.168 648.584 Q55.8764 648.167 53.4227 647.31 L53.4227 642.797 Q55.3671 643.931 57.6819 644.509 Q59.9967 645.088 62.5198 645.088 Q66.918 645.088 69.2096 643.352 Q71.5244 641.616 71.5244 638.306 Q71.5244 635.25 69.3717 633.537 Q67.242 631.801 63.4226 631.801 L59.3949 631.801 L59.3949 627.959 L63.6078 627.959 Q67.0569 627.959 68.8855 626.593 Q70.7142 625.204 70.7142 622.611 Q70.7142 619.949 68.8161 618.537 Q66.9411 617.102 63.4226 617.102 Q61.5013 617.102 59.3023 617.519 Q57.1032 617.936 54.4643 618.815 L54.4643 614.649 Q57.1264 613.908 59.4412 613.537 Q61.7791 613.167 63.8393 613.167 Q69.1633 613.167 72.2652 615.598 Q75.367 618.005 75.367 622.125 Q75.367 624.996 73.7235 626.986 Q72.08 628.954 69.0476 629.718 Z\" fill=\"#000000\" fill-rule=\"evenodd\" fill-opacity=\"1\" /><path clip-path=\"url(#clip670)\" d=\"M66.5939 346.318 L54.7884 364.767 L66.5939 364.767 L66.5939 346.318 M65.367 342.244 L71.2466 342.244 L71.2466 364.767 L76.1772 364.767 L76.1772 368.656 L71.2466 368.656 L71.2466 376.804 L66.5939 376.804 L66.5939 368.656 L50.9921 368.656 L50.9921 364.142 L65.367 342.244 Z\" fill=\"#000000\" fill-rule=\"evenodd\" fill-opacity=\"1\" /><path clip-path=\"url(#clip670)\" d=\"M55.2745 70.6963 L73.6309 70.6963 L73.6309 74.6314 L59.5569 74.6314 L59.5569 83.1036 Q60.5754 82.7564 61.5939 82.5944 Q62.6124 82.4092 63.6309 82.4092 Q69.418 82.4092 72.7976 85.5805 Q76.1772 88.7517 76.1772 94.1684 Q76.1772 99.747 72.705 102.849 Q69.2328 105.928 62.9134 105.928 Q60.7374 105.928 58.4689 105.557 Q56.2236 105.187 53.8162 104.446 L53.8162 99.747 Q55.8995 100.881 58.1217 101.437 Q60.3439 101.992 62.8208 101.992 Q66.8254 101.992 69.1633 99.8859 Q71.5013 97.7795 71.5013 94.1684 Q71.5013 90.5573 69.1633 88.4508 Q66.8254 86.3443 62.8208 86.3443 Q60.9458 86.3443 59.0708 86.761 Q57.2189 87.1777 55.2745 88.0573 L55.2745 70.6963 Z\" fill=\"#000000\" fill-rule=\"evenodd\" fill-opacity=\"1\" /><polyline clip-path=\"url(#clip672)\" style=\"stroke:#008000; stroke-linecap:butt; stroke-linejoin:round; stroke-width:4; stroke-opacity:1; fill:none\" points=\"\n",
       "  175.59,1445.72 2289.34,1445.72 2289.34,87.9763 175.59,87.9763 175.59,1445.72 \n",
       "  \"/>\n",
       "<polyline clip-path=\"url(#clip672)\" style=\"stroke:#ff0000; stroke-linecap:butt; stroke-linejoin:round; stroke-width:4; stroke-opacity:1; fill:none\" points=\"\n",
       "  598.34,1445.72 1021.09,1445.72 1021.09,631.072 598.34,631.072 598.34,1445.72 \n",
       "  \"/>\n",
       "<polyline clip-path=\"url(#clip672)\" style=\"stroke:#ff0000; stroke-linecap:butt; stroke-linejoin:round; stroke-width:4; stroke-opacity:1; fill:none\" points=\"\n",
       "  1655.22,1174.17 2077.97,1174.17 2077.97,495.298 1655.22,495.298 1655.22,1174.17 \n",
       "  \"/>\n",
       "<polyline clip-path=\"url(#clip672)\" style=\"stroke:#ff0000; stroke-linecap:butt; stroke-linejoin:round; stroke-width:4; stroke-opacity:1; fill:none\" points=\"\n",
       "  1655.22,359.524 2077.97,359.524 2077.97,87.9763 1655.22,87.9763 1655.22,359.524 \n",
       "  \"/>\n",
       "<circle clip-path=\"url(#clip672)\" cx=\"228.434\" cy=\"1377.83\" r=\"18\" fill=\"#0000ff\" fill-rule=\"evenodd\" fill-opacity=\"1\" stroke=\"#000000\" stroke-opacity=\"1\" stroke-width=\"3.2\"/>\n",
       "<path clip-path=\"url(#clip672)\" d=\"M2236.5 882.62 L2231.8 896.14 L2217.48 896.44 L2228.9 905.1 L2224.74 918.8 L2236.5 910.62 L2248.26 918.8 L2244.1 905.1 L2255.52 896.44 L2241.2 896.14 L2236.5 882.62 Z\" fill=\"#ffa500\" fill-rule=\"evenodd\" fill-opacity=\"1\" stroke=\"#000000\" stroke-opacity=\"1\" stroke-width=\"3.2\"/>\n",
       "<circle clip-path=\"url(#clip672)\" cx=\"1062.67\" cy=\"602.492\" r=\"18\" fill=\"#008000\" fill-rule=\"evenodd\" fill-opacity=\"1\" stroke=\"#000000\" stroke-opacity=\"1\" stroke-width=\"3.2\"/>\n",
       "<circle clip-path=\"url(#clip672)\" cx=\"1234.82\" cy=\"622.293\" r=\"18\" fill=\"#008000\" fill-rule=\"evenodd\" fill-opacity=\"1\" stroke=\"#000000\" stroke-opacity=\"1\" stroke-width=\"3.2\"/>\n",
       "<circle clip-path=\"url(#clip672)\" cx=\"1234.82\" cy=\"622.293\" r=\"18\" fill=\"#008000\" fill-rule=\"evenodd\" fill-opacity=\"1\" stroke=\"#000000\" stroke-opacity=\"1\" stroke-width=\"3.2\"/>\n",
       "<circle clip-path=\"url(#clip672)\" cx=\"1234.82\" cy=\"622.293\" r=\"18\" fill=\"#008000\" fill-rule=\"evenodd\" fill-opacity=\"1\" stroke=\"#000000\" stroke-opacity=\"1\" stroke-width=\"3.2\"/>\n",
       "<circle clip-path=\"url(#clip672)\" cx=\"1234.82\" cy=\"622.293\" r=\"18\" fill=\"#008000\" fill-rule=\"evenodd\" fill-opacity=\"1\" stroke=\"#000000\" stroke-opacity=\"1\" stroke-width=\"3.2\"/>\n",
       "<circle clip-path=\"url(#clip672)\" cx=\"1234.82\" cy=\"622.293\" r=\"18\" fill=\"#008000\" fill-rule=\"evenodd\" fill-opacity=\"1\" stroke=\"#000000\" stroke-opacity=\"1\" stroke-width=\"3.2\"/>\n",
       "<circle clip-path=\"url(#clip672)\" cx=\"1234.82\" cy=\"622.293\" r=\"18\" fill=\"#008000\" fill-rule=\"evenodd\" fill-opacity=\"1\" stroke=\"#000000\" stroke-opacity=\"1\" stroke-width=\"3.2\"/>\n",
       "<circle clip-path=\"url(#clip672)\" cx=\"1234.82\" cy=\"622.293\" r=\"18\" fill=\"#008000\" fill-rule=\"evenodd\" fill-opacity=\"1\" stroke=\"#000000\" stroke-opacity=\"1\" stroke-width=\"3.2\"/>\n",
       "<circle clip-path=\"url(#clip672)\" cx=\"1234.82\" cy=\"622.293\" r=\"18\" fill=\"#008000\" fill-rule=\"evenodd\" fill-opacity=\"1\" stroke=\"#000000\" stroke-opacity=\"1\" stroke-width=\"3.2\"/>\n",
       "<circle clip-path=\"url(#clip672)\" cx=\"2272.11\" cy=\"615.629\" r=\"18\" fill=\"#008000\" fill-rule=\"evenodd\" fill-opacity=\"1\" stroke=\"#000000\" stroke-opacity=\"1\" stroke-width=\"3.2\"/>\n",
       "<path clip-path=\"url(#clip670)\" d=\"\n",
       "M1975.3 302.578 L2278.07 302.578 L2278.07 95.2176 L1975.3 95.2176  Z\n",
       "  \" fill=\"#ffffff\" fill-rule=\"evenodd\" fill-opacity=\"1\"/>\n",
       "<polyline clip-path=\"url(#clip670)\" style=\"stroke:#000000; stroke-linecap:butt; stroke-linejoin:round; stroke-width:4; stroke-opacity:1; fill:none\" points=\"\n",
       "  1975.3,302.578 2278.07,302.578 2278.07,95.2176 1975.3,95.2176 1975.3,302.578 \n",
       "  \"/>\n",
       "<circle clip-path=\"url(#clip670)\" cx=\"2074.88\" cy=\"147.058\" r=\"23\" fill=\"#0000ff\" fill-rule=\"evenodd\" fill-opacity=\"1\" stroke=\"#000000\" stroke-opacity=\"1\" stroke-width=\"4.096\"/>\n",
       "<path clip-path=\"url(#clip670)\" d=\"M2188.3 166.745 Q2186.5 171.375 2184.78 172.787 Q2183.07 174.199 2180.2 174.199 L2176.8 174.199 L2176.8 170.634 L2179.3 170.634 Q2181.06 170.634 2182.03 169.8 Q2183 168.967 2184.18 165.865 L2184.95 163.921 L2174.46 138.412 L2178.97 138.412 L2187.08 158.689 L2195.18 138.412 L2199.69 138.412 L2188.3 166.745 Z\" fill=\"#000000\" fill-rule=\"evenodd\" fill-opacity=\"1\" /><path clip-path=\"url(#clip670)\" d=\"M2206.22 129.778 L2224.58 129.778 L2224.58 133.713 L2210.5 133.713 L2210.5 142.185 Q2211.52 141.838 2212.54 141.676 Q2213.56 141.49 2214.58 141.49 Q2220.36 141.49 2223.74 144.662 Q2227.12 147.833 2227.12 153.25 Q2227.12 158.828 2223.65 161.93 Q2220.18 165.009 2213.86 165.009 Q2211.68 165.009 2209.41 164.638 Q2207.17 164.268 2204.76 163.527 L2204.76 158.828 Q2206.84 159.963 2209.07 160.518 Q2211.29 161.074 2213.77 161.074 Q2217.77 161.074 2220.11 158.967 Q2222.45 156.861 2222.45 153.25 Q2222.45 149.639 2220.11 147.532 Q2217.77 145.426 2213.77 145.426 Q2211.89 145.426 2210.02 145.842 Q2208.16 146.259 2206.22 147.139 L2206.22 129.778 Z\" fill=\"#000000\" fill-rule=\"evenodd\" fill-opacity=\"1\" /><path clip-path=\"url(#clip670)\" d=\"M2074.88 173.298 L2068.86 190.603 L2050.53 190.987 L2065.15 202.072 L2059.83 219.608 L2074.88 209.138 L2089.93 219.608 L2084.61 202.072 L2099.22 190.987 L2080.89 190.603 L2074.88 173.298 Z\" fill=\"#ffa500\" fill-rule=\"evenodd\" fill-opacity=\"1\" stroke=\"#000000\" stroke-opacity=\"1\" stroke-width=\"4.096\"/>\n",
       "<path clip-path=\"url(#clip670)\" d=\"M2188.3 218.585 Q2186.5 223.215 2184.78 224.627 Q2183.07 226.039 2180.2 226.039 L2176.8 226.039 L2176.8 222.474 L2179.3 222.474 Q2181.06 222.474 2182.03 221.64 Q2183 220.807 2184.18 217.705 L2184.95 215.761 L2174.46 190.252 L2178.97 190.252 L2187.08 210.529 L2195.18 190.252 L2199.69 190.252 L2188.3 218.585 Z\" fill=\"#000000\" fill-rule=\"evenodd\" fill-opacity=\"1\" /><path clip-path=\"url(#clip670)\" d=\"M2216.75 197.034 Q2213.6 197.034 2211.75 199.187 Q2209.92 201.34 2209.92 205.09 Q2209.92 208.816 2211.75 210.992 Q2213.6 213.145 2216.75 213.145 Q2219.9 213.145 2221.73 210.992 Q2223.58 208.816 2223.58 205.09 Q2223.58 201.34 2221.73 199.187 Q2219.9 197.034 2216.75 197.034 M2226.03 182.381 L2226.03 186.641 Q2224.27 185.807 2222.47 185.368 Q2220.69 184.928 2218.93 184.928 Q2214.3 184.928 2211.84 188.053 Q2209.41 191.178 2209.07 197.497 Q2210.43 195.483 2212.49 194.418 Q2214.55 193.33 2217.03 193.33 Q2222.24 193.33 2225.25 196.502 Q2228.28 199.65 2228.28 205.09 Q2228.28 210.414 2225.13 213.631 Q2221.98 216.849 2216.75 216.849 Q2210.76 216.849 2207.58 212.266 Q2204.41 207.659 2204.41 198.932 Q2204.41 190.738 2208.3 185.877 Q2212.19 180.993 2218.74 180.993 Q2220.5 180.993 2222.28 181.34 Q2224.09 181.687 2226.03 182.381 Z\" fill=\"#000000\" fill-rule=\"evenodd\" fill-opacity=\"1\" /><circle clip-path=\"url(#clip670)\" cx=\"2074.88\" cy=\"250.738\" r=\"23\" fill=\"#008000\" fill-rule=\"evenodd\" fill-opacity=\"1\" stroke=\"#000000\" stroke-opacity=\"1\" stroke-width=\"4.096\"/>\n",
       "<path clip-path=\"url(#clip670)\" d=\"M2188.3 270.425 Q2186.5 275.055 2184.78 276.467 Q2183.07 277.879 2180.2 277.879 L2176.8 277.879 L2176.8 274.314 L2179.3 274.314 Q2181.06 274.314 2182.03 273.48 Q2183 272.647 2184.18 269.545 L2184.95 267.601 L2174.46 242.092 L2178.97 242.092 L2187.08 262.369 L2195.18 242.092 L2199.69 242.092 L2188.3 270.425 Z\" fill=\"#000000\" fill-rule=\"evenodd\" fill-opacity=\"1\" /><path clip-path=\"url(#clip670)\" d=\"M2204.99 233.458 L2227.21 233.458 L2227.21 235.448 L2214.67 268.018 L2209.78 268.018 L2221.59 237.393 L2204.99 237.393 L2204.99 233.458 Z\" fill=\"#000000\" fill-rule=\"evenodd\" fill-opacity=\"1\" /></svg>\n"
      ]
     },
     "execution_count": 338,
     "metadata": {},
     "output_type": "execute_result"
    }
   ],
   "source": [
    "plot_env()\n",
    "scatter!(x.value, y.value, color=:green, markersize=5)"
   ]
  },
  {
   "cell_type": "code",
   "execution_count": 339,
   "metadata": {},
   "outputs": [
    {
     "data": {
      "text/plain": [
       "10×1 Matrix{Float64}:\n",
       " 4.196725542105072\n",
       " 5.011145856465111\n",
       " 5.011145856465111\n",
       " 5.011145856465111\n",
       " 5.011145856465111\n",
       " 5.011145856465111\n",
       " 5.011145856465111\n",
       " 5.011145856465111\n",
       " 5.011145856465112\n",
       " 9.918463146661319"
      ]
     },
     "execution_count": 339,
     "metadata": {},
     "output_type": "execute_result"
    }
   ],
   "source": [
    "x.value"
   ]
  },
  {
   "cell_type": "code",
   "execution_count": 340,
   "metadata": {},
   "outputs": [
    {
     "data": {
      "text/plain": [
       "10×1 Matrix{Float64}:\n",
       " 3.105247294156767\n",
       " 3.0323300156563504\n",
       " 3.0323300156563504\n",
       " 3.0323300156563504\n",
       " 3.0323300156563504\n",
       " 3.0323300156563504\n",
       " 3.0323300156563504\n",
       " 3.0323300156563504\n",
       " 3.0323300156563504\n",
       " 3.0568708320682108"
      ]
     },
     "execution_count": 340,
     "metadata": {},
     "output_type": "execute_result"
    }
   ],
   "source": [
    "y.value"
   ]
  },
  {
   "cell_type": "code",
   "execution_count": null,
   "metadata": {},
   "outputs": [],
   "source": []
  }
 ],
 "metadata": {
  "kernelspec": {
   "display_name": "Julia 1.6.0",
   "language": "julia",
   "name": "julia-1.6"
  },
  "language_info": {
   "file_extension": ".jl",
   "mimetype": "application/julia",
   "name": "julia",
   "version": "1.6.0"
  }
 },
 "nbformat": 4,
 "nbformat_minor": 2
}
