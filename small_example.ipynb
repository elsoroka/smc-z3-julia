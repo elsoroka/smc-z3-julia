{
 "cells": [
  {
   "cell_type": "code",
   "execution_count": 186,
   "metadata": {},
   "outputs": [
    {
     "data": {
      "text/plain": [
       "solve! (generic function with 5 methods)"
      ]
     },
     "execution_count": 186,
     "metadata": {},
     "output_type": "execute_result"
    }
   ],
   "source": [
    "import Convex\n",
    "using LinearAlgebra, Plots\n",
    "include(\"z3_utility.jl\")\n",
    "include(\"smc.jl\")"
   ]
  },
  {
   "cell_type": "code",
   "execution_count": 187,
   "metadata": {
    "scrolled": false
   },
   "outputs": [
    {
     "name": "stdout",
     "output_type": "stream",
     "text": [
      "optval -1.0959755686437498e-5\n"
     ]
    }
   ],
   "source": [
    "# a problem where x has to be in a circle of radius √2 but outside a square of length 1\n",
    "x = Variable(2, :Real)\n",
    "constraints = NodeType[\n",
    "    Convex.sumsquares(x) <= 2.0,\n",
    "    (x[1] >= 1.0) ∨ (x[1] <= -1.0),\n",
    "    (x[2] >= 1.0) ∨ (x[2] <= -1.0),\n",
    "]\n",
    "problem = SmcProblem(constraints)\n",
    "solve!(problem)"
   ]
  },
  {
   "cell_type": "code",
   "execution_count": 188,
   "metadata": {},
   "outputs": [
    {
     "data": {
      "image/svg+xml": [
       "<?xml version=\"1.0\" encoding=\"utf-8\"?>\n",
       "<svg xmlns=\"http://www.w3.org/2000/svg\" xmlns:xlink=\"http://www.w3.org/1999/xlink\" width=\"600\" height=\"400\" viewBox=\"0 0 2400 1600\">\n",
       "<defs>\n",
       "  <clipPath id=\"clip330\">\n",
       "    <rect x=\"0\" y=\"0\" width=\"2400\" height=\"1600\"/>\n",
       "  </clipPath>\n",
       "</defs>\n",
       "<path clip-path=\"url(#clip330)\" d=\"\n",
       "M0 1600 L2400 1600 L2400 0 L0 0  Z\n",
       "  \" fill=\"#ffffff\" fill-rule=\"evenodd\" fill-opacity=\"1\"/>\n",
       "<defs>\n",
       "  <clipPath id=\"clip331\">\n",
       "    <rect x=\"480\" y=\"0\" width=\"1681\" height=\"1600\"/>\n",
       "  </clipPath>\n",
       "</defs>\n",
       "<path clip-path=\"url(#clip330)\" d=\"\n",
       "M193.936 1486.45 L2352.76 1486.45 L2352.76 47.2441 L193.936 47.2441  Z\n",
       "  \" fill=\"#ffffff\" fill-rule=\"evenodd\" fill-opacity=\"1\"/>\n",
       "<defs>\n",
       "  <clipPath id=\"clip332\">\n",
       "    <rect x=\"193\" y=\"47\" width=\"2160\" height=\"1440\"/>\n",
       "  </clipPath>\n",
       "</defs>\n",
       "<polyline clip-path=\"url(#clip332)\" style=\"stroke:#000000; stroke-linecap:butt; stroke-linejoin:round; stroke-width:2; stroke-opacity:0.1; fill:none\" points=\"\n",
       "  313.279,1486.45 313.279,47.2441 \n",
       "  \"/>\n",
       "<polyline clip-path=\"url(#clip332)\" style=\"stroke:#000000; stroke-linecap:butt; stroke-linejoin:round; stroke-width:2; stroke-opacity:0.1; fill:none\" points=\"\n",
       "  793.313,1486.45 793.313,47.2441 \n",
       "  \"/>\n",
       "<polyline clip-path=\"url(#clip332)\" style=\"stroke:#000000; stroke-linecap:butt; stroke-linejoin:round; stroke-width:2; stroke-opacity:0.1; fill:none\" points=\"\n",
       "  1273.35,1486.45 1273.35,47.2441 \n",
       "  \"/>\n",
       "<polyline clip-path=\"url(#clip332)\" style=\"stroke:#000000; stroke-linecap:butt; stroke-linejoin:round; stroke-width:2; stroke-opacity:0.1; fill:none\" points=\"\n",
       "  1753.38,1486.45 1753.38,47.2441 \n",
       "  \"/>\n",
       "<polyline clip-path=\"url(#clip332)\" style=\"stroke:#000000; stroke-linecap:butt; stroke-linejoin:round; stroke-width:2; stroke-opacity:0.1; fill:none\" points=\"\n",
       "  2233.41,1486.45 2233.41,47.2441 \n",
       "  \"/>\n",
       "<polyline clip-path=\"url(#clip330)\" style=\"stroke:#000000; stroke-linecap:butt; stroke-linejoin:round; stroke-width:4; stroke-opacity:1; fill:none\" points=\"\n",
       "  193.936,1486.45 2352.76,1486.45 \n",
       "  \"/>\n",
       "<polyline clip-path=\"url(#clip330)\" style=\"stroke:#000000; stroke-linecap:butt; stroke-linejoin:round; stroke-width:4; stroke-opacity:1; fill:none\" points=\"\n",
       "  313.279,1486.45 313.279,1467.55 \n",
       "  \"/>\n",
       "<polyline clip-path=\"url(#clip330)\" style=\"stroke:#000000; stroke-linecap:butt; stroke-linejoin:round; stroke-width:4; stroke-opacity:1; fill:none\" points=\"\n",
       "  793.313,1486.45 793.313,1467.55 \n",
       "  \"/>\n",
       "<polyline clip-path=\"url(#clip330)\" style=\"stroke:#000000; stroke-linecap:butt; stroke-linejoin:round; stroke-width:4; stroke-opacity:1; fill:none\" points=\"\n",
       "  1273.35,1486.45 1273.35,1467.55 \n",
       "  \"/>\n",
       "<polyline clip-path=\"url(#clip330)\" style=\"stroke:#000000; stroke-linecap:butt; stroke-linejoin:round; stroke-width:4; stroke-opacity:1; fill:none\" points=\"\n",
       "  1753.38,1486.45 1753.38,1467.55 \n",
       "  \"/>\n",
       "<polyline clip-path=\"url(#clip330)\" style=\"stroke:#000000; stroke-linecap:butt; stroke-linejoin:round; stroke-width:4; stroke-opacity:1; fill:none\" points=\"\n",
       "  2233.41,1486.45 2233.41,1467.55 \n",
       "  \"/>\n",
       "<path clip-path=\"url(#clip330)\" d=\"M283.221 1532.02 L312.897 1532.02 L312.897 1535.95 L283.221 1535.95 L283.221 1532.02 Z\" fill=\"#000000\" fill-rule=\"evenodd\" fill-opacity=\"1\" /><path clip-path=\"url(#clip330)\" d=\"M327.018 1544.91 L343.337 1544.91 L343.337 1548.85 L321.393 1548.85 L321.393 1544.91 Q324.055 1542.16 328.638 1537.53 Q333.244 1532.88 334.425 1531.53 Q336.67 1529.01 337.55 1527.27 Q338.453 1525.51 338.453 1523.82 Q338.453 1521.07 336.508 1519.33 Q334.587 1517.6 331.485 1517.6 Q329.286 1517.6 326.832 1518.36 Q324.402 1519.13 321.624 1520.68 L321.624 1515.95 Q324.448 1514.82 326.902 1514.24 Q329.356 1513.66 331.393 1513.66 Q336.763 1513.66 339.957 1516.35 Q343.152 1519.03 343.152 1523.52 Q343.152 1525.65 342.342 1527.57 Q341.555 1529.47 339.448 1532.07 Q338.869 1532.74 335.768 1535.95 Q332.666 1539.15 327.018 1544.91 Z\" fill=\"#000000\" fill-rule=\"evenodd\" fill-opacity=\"1\" /><path clip-path=\"url(#clip330)\" d=\"M763.07 1532.02 L792.745 1532.02 L792.745 1535.95 L763.07 1535.95 L763.07 1532.02 Z\" fill=\"#000000\" fill-rule=\"evenodd\" fill-opacity=\"1\" /><path clip-path=\"url(#clip330)\" d=\"M803.648 1544.91 L811.287 1544.91 L811.287 1518.55 L802.977 1520.21 L802.977 1515.95 L811.241 1514.29 L815.917 1514.29 L815.917 1544.91 L823.555 1544.91 L823.555 1548.85 L803.648 1548.85 L803.648 1544.91 Z\" fill=\"#000000\" fill-rule=\"evenodd\" fill-opacity=\"1\" /><path clip-path=\"url(#clip330)\" d=\"M1273.35 1517.37 Q1269.73 1517.37 1267.91 1520.93 Q1266.1 1524.47 1266.1 1531.6 Q1266.1 1538.71 1267.91 1542.27 Q1269.73 1545.82 1273.35 1545.82 Q1276.98 1545.82 1278.79 1542.27 Q1280.61 1538.71 1280.61 1531.6 Q1280.61 1524.47 1278.79 1520.93 Q1276.98 1517.37 1273.35 1517.37 M1273.35 1513.66 Q1279.16 1513.66 1282.21 1518.27 Q1285.29 1522.85 1285.29 1531.6 Q1285.29 1540.33 1282.21 1544.94 Q1279.16 1549.52 1273.35 1549.52 Q1267.54 1549.52 1264.46 1544.94 Q1261.4 1540.33 1261.4 1531.6 Q1261.4 1522.85 1264.46 1518.27 Q1267.54 1513.66 1273.35 1513.66 Z\" fill=\"#000000\" fill-rule=\"evenodd\" fill-opacity=\"1\" /><path clip-path=\"url(#clip330)\" d=\"M1743.76 1544.91 L1751.4 1544.91 L1751.4 1518.55 L1743.09 1520.21 L1743.09 1515.95 L1751.35 1514.29 L1756.03 1514.29 L1756.03 1544.91 L1763.67 1544.91 L1763.67 1548.85 L1743.76 1548.85 L1743.76 1544.91 Z\" fill=\"#000000\" fill-rule=\"evenodd\" fill-opacity=\"1\" /><path clip-path=\"url(#clip330)\" d=\"M2228.07 1544.91 L2244.38 1544.91 L2244.38 1548.85 L2222.44 1548.85 L2222.44 1544.91 Q2225.1 1542.16 2229.69 1537.53 Q2234.29 1532.88 2235.47 1531.53 Q2237.72 1529.01 2238.6 1527.27 Q2239.5 1525.51 2239.5 1523.82 Q2239.5 1521.07 2237.56 1519.33 Q2235.63 1517.6 2232.53 1517.6 Q2230.33 1517.6 2227.88 1518.36 Q2225.45 1519.13 2222.67 1520.68 L2222.67 1515.95 Q2225.5 1514.82 2227.95 1514.24 Q2230.4 1513.66 2232.44 1513.66 Q2237.81 1513.66 2241.01 1516.35 Q2244.2 1519.03 2244.2 1523.52 Q2244.2 1525.65 2243.39 1527.57 Q2242.6 1529.47 2240.5 1532.07 Q2239.92 1532.74 2236.82 1535.95 Q2233.71 1539.15 2228.07 1544.91 Z\" fill=\"#000000\" fill-rule=\"evenodd\" fill-opacity=\"1\" /><polyline clip-path=\"url(#clip332)\" style=\"stroke:#000000; stroke-linecap:butt; stroke-linejoin:round; stroke-width:2; stroke-opacity:0.1; fill:none\" points=\"\n",
       "  193.936,1246.88 2352.76,1246.88 \n",
       "  \"/>\n",
       "<polyline clip-path=\"url(#clip332)\" style=\"stroke:#000000; stroke-linecap:butt; stroke-linejoin:round; stroke-width:2; stroke-opacity:0.1; fill:none\" points=\"\n",
       "  193.936,1006.86 2352.76,1006.86 \n",
       "  \"/>\n",
       "<polyline clip-path=\"url(#clip332)\" style=\"stroke:#000000; stroke-linecap:butt; stroke-linejoin:round; stroke-width:2; stroke-opacity:0.1; fill:none\" points=\"\n",
       "  193.936,766.846 2352.76,766.846 \n",
       "  \"/>\n",
       "<polyline clip-path=\"url(#clip332)\" style=\"stroke:#000000; stroke-linecap:butt; stroke-linejoin:round; stroke-width:2; stroke-opacity:0.1; fill:none\" points=\"\n",
       "  193.936,526.829 2352.76,526.829 \n",
       "  \"/>\n",
       "<polyline clip-path=\"url(#clip332)\" style=\"stroke:#000000; stroke-linecap:butt; stroke-linejoin:round; stroke-width:2; stroke-opacity:0.1; fill:none\" points=\"\n",
       "  193.936,286.813 2352.76,286.813 \n",
       "  \"/>\n",
       "<polyline clip-path=\"url(#clip330)\" style=\"stroke:#000000; stroke-linecap:butt; stroke-linejoin:round; stroke-width:4; stroke-opacity:1; fill:none\" points=\"\n",
       "  193.936,1486.45 193.936,47.2441 \n",
       "  \"/>\n",
       "<polyline clip-path=\"url(#clip330)\" style=\"stroke:#000000; stroke-linecap:butt; stroke-linejoin:round; stroke-width:4; stroke-opacity:1; fill:none\" points=\"\n",
       "  193.936,1246.88 212.834,1246.88 \n",
       "  \"/>\n",
       "<polyline clip-path=\"url(#clip330)\" style=\"stroke:#000000; stroke-linecap:butt; stroke-linejoin:round; stroke-width:4; stroke-opacity:1; fill:none\" points=\"\n",
       "  193.936,1006.86 212.834,1006.86 \n",
       "  \"/>\n",
       "<polyline clip-path=\"url(#clip330)\" style=\"stroke:#000000; stroke-linecap:butt; stroke-linejoin:round; stroke-width:4; stroke-opacity:1; fill:none\" points=\"\n",
       "  193.936,766.846 212.834,766.846 \n",
       "  \"/>\n",
       "<polyline clip-path=\"url(#clip330)\" style=\"stroke:#000000; stroke-linecap:butt; stroke-linejoin:round; stroke-width:4; stroke-opacity:1; fill:none\" points=\"\n",
       "  193.936,526.829 212.834,526.829 \n",
       "  \"/>\n",
       "<polyline clip-path=\"url(#clip330)\" style=\"stroke:#000000; stroke-linecap:butt; stroke-linejoin:round; stroke-width:4; stroke-opacity:1; fill:none\" points=\"\n",
       "  193.936,286.813 212.834,286.813 \n",
       "  \"/>\n",
       "<path clip-path=\"url(#clip330)\" d=\"M50.9921 1247.33 L80.6679 1247.33 L80.6679 1251.27 L50.9921 1251.27 L50.9921 1247.33 Z\" fill=\"#000000\" fill-rule=\"evenodd\" fill-opacity=\"1\" /><path clip-path=\"url(#clip330)\" d=\"M91.5706 1260.22 L99.2095 1260.22 L99.2095 1233.86 L90.8993 1235.53 L90.8993 1231.27 L99.1632 1229.6 L103.839 1229.6 L103.839 1260.22 L111.478 1260.22 L111.478 1264.16 L91.5706 1264.16 L91.5706 1260.22 Z\" fill=\"#000000\" fill-rule=\"evenodd\" fill-opacity=\"1\" /><path clip-path=\"url(#clip330)\" d=\"M120.922 1258.28 L125.807 1258.28 L125.807 1264.16 L120.922 1264.16 L120.922 1258.28 Z\" fill=\"#000000\" fill-rule=\"evenodd\" fill-opacity=\"1\" /><path clip-path=\"url(#clip330)\" d=\"M145.992 1232.68 Q142.381 1232.68 140.552 1236.24 Q138.746 1239.78 138.746 1246.91 Q138.746 1254.02 140.552 1257.59 Q142.381 1261.13 145.992 1261.13 Q149.626 1261.13 151.431 1257.59 Q153.26 1254.02 153.26 1246.91 Q153.26 1239.78 151.431 1236.24 Q149.626 1232.68 145.992 1232.68 M145.992 1228.97 Q151.802 1228.97 154.857 1233.58 Q157.936 1238.16 157.936 1246.91 Q157.936 1255.64 154.857 1260.25 Q151.802 1264.83 145.992 1264.83 Q140.181 1264.83 137.103 1260.25 Q134.047 1255.64 134.047 1246.91 Q134.047 1238.16 137.103 1233.58 Q140.181 1228.97 145.992 1228.97 Z\" fill=\"#000000\" fill-rule=\"evenodd\" fill-opacity=\"1\" /><path clip-path=\"url(#clip330)\" d=\"M51.9875 1007.31 L81.6633 1007.31 L81.6633 1011.25 L51.9875 1011.25 L51.9875 1007.31 Z\" fill=\"#000000\" fill-rule=\"evenodd\" fill-opacity=\"1\" /><path clip-path=\"url(#clip330)\" d=\"M101.756 992.661 Q98.1447 992.661 96.316 996.226 Q94.5104 999.768 94.5104 1006.9 Q94.5104 1014 96.316 1017.57 Q98.1447 1021.11 101.756 1021.11 Q105.39 1021.11 107.196 1017.57 Q109.024 1014 109.024 1006.9 Q109.024 999.768 107.196 996.226 Q105.39 992.661 101.756 992.661 M101.756 988.958 Q107.566 988.958 110.621 993.564 Q113.7 998.147 113.7 1006.9 Q113.7 1015.62 110.621 1020.23 Q107.566 1024.81 101.756 1024.81 Q95.9456 1024.81 92.8669 1020.23 Q89.8114 1015.62 89.8114 1006.9 Q89.8114 998.147 92.8669 993.564 Q95.9456 988.958 101.756 988.958 Z\" fill=\"#000000\" fill-rule=\"evenodd\" fill-opacity=\"1\" /><path clip-path=\"url(#clip330)\" d=\"M121.918 1018.26 L126.802 1018.26 L126.802 1024.14 L121.918 1024.14 L121.918 1018.26 Z\" fill=\"#000000\" fill-rule=\"evenodd\" fill-opacity=\"1\" /><path clip-path=\"url(#clip330)\" d=\"M137.033 989.583 L155.39 989.583 L155.39 993.518 L141.316 993.518 L141.316 1001.99 Q142.334 1001.64 143.353 1001.48 Q144.371 1001.3 145.39 1001.3 Q151.177 1001.3 154.556 1004.47 Q157.936 1007.64 157.936 1013.05 Q157.936 1018.63 154.464 1021.74 Q150.992 1024.81 144.672 1024.81 Q142.496 1024.81 140.228 1024.44 Q137.982 1024.07 135.575 1023.33 L135.575 1018.63 Q137.658 1019.77 139.881 1020.32 Q142.103 1020.88 144.58 1020.88 Q148.584 1020.88 150.922 1018.77 Q153.26 1016.67 153.26 1013.05 Q153.26 1009.44 150.922 1007.34 Q148.584 1005.23 144.58 1005.23 Q142.705 1005.23 140.83 1005.65 Q138.978 1006.06 137.033 1006.94 L137.033 989.583 Z\" fill=\"#000000\" fill-rule=\"evenodd\" fill-opacity=\"1\" /><path clip-path=\"url(#clip330)\" d=\"M100.76 752.645 Q97.1493 752.645 95.3206 756.209 Q93.515 759.751 93.515 766.881 Q93.515 773.987 95.3206 777.552 Q97.1493 781.094 100.76 781.094 Q104.395 781.094 106.2 777.552 Q108.029 773.987 108.029 766.881 Q108.029 759.751 106.2 756.209 Q104.395 752.645 100.76 752.645 M100.76 748.941 Q106.571 748.941 109.626 753.547 Q112.705 758.131 112.705 766.881 Q112.705 775.608 109.626 780.214 Q106.571 784.797 100.76 784.797 Q94.9502 784.797 91.8715 780.214 Q88.816 775.608 88.816 766.881 Q88.816 758.131 91.8715 753.547 Q94.9502 748.941 100.76 748.941 Z\" fill=\"#000000\" fill-rule=\"evenodd\" fill-opacity=\"1\" /><path clip-path=\"url(#clip330)\" d=\"M120.922 778.246 L125.807 778.246 L125.807 784.126 L120.922 784.126 L120.922 778.246 Z\" fill=\"#000000\" fill-rule=\"evenodd\" fill-opacity=\"1\" /><path clip-path=\"url(#clip330)\" d=\"M145.992 752.645 Q142.381 752.645 140.552 756.209 Q138.746 759.751 138.746 766.881 Q138.746 773.987 140.552 777.552 Q142.381 781.094 145.992 781.094 Q149.626 781.094 151.431 777.552 Q153.26 773.987 153.26 766.881 Q153.26 759.751 151.431 756.209 Q149.626 752.645 145.992 752.645 M145.992 748.941 Q151.802 748.941 154.857 753.547 Q157.936 758.131 157.936 766.881 Q157.936 775.608 154.857 780.214 Q151.802 784.797 145.992 784.797 Q140.181 784.797 137.103 780.214 Q134.047 775.608 134.047 766.881 Q134.047 758.131 137.103 753.547 Q140.181 748.941 145.992 748.941 Z\" fill=\"#000000\" fill-rule=\"evenodd\" fill-opacity=\"1\" /><path clip-path=\"url(#clip330)\" d=\"M101.756 512.628 Q98.1447 512.628 96.316 516.193 Q94.5104 519.734 94.5104 526.864 Q94.5104 533.97 96.316 537.535 Q98.1447 541.077 101.756 541.077 Q105.39 541.077 107.196 537.535 Q109.024 533.97 109.024 526.864 Q109.024 519.734 107.196 516.193 Q105.39 512.628 101.756 512.628 M101.756 508.924 Q107.566 508.924 110.621 513.531 Q113.7 518.114 113.7 526.864 Q113.7 535.591 110.621 540.197 Q107.566 544.781 101.756 544.781 Q95.9456 544.781 92.8669 540.197 Q89.8114 535.591 89.8114 526.864 Q89.8114 518.114 92.8669 513.531 Q95.9456 508.924 101.756 508.924 Z\" fill=\"#000000\" fill-rule=\"evenodd\" fill-opacity=\"1\" /><path clip-path=\"url(#clip330)\" d=\"M121.918 538.23 L126.802 538.23 L126.802 544.109 L121.918 544.109 L121.918 538.23 Z\" fill=\"#000000\" fill-rule=\"evenodd\" fill-opacity=\"1\" /><path clip-path=\"url(#clip330)\" d=\"M137.033 509.549 L155.39 509.549 L155.39 513.484 L141.316 513.484 L141.316 521.957 Q142.334 521.609 143.353 521.447 Q144.371 521.262 145.39 521.262 Q151.177 521.262 154.556 524.433 Q157.936 527.605 157.936 533.021 Q157.936 538.6 154.464 541.702 Q150.992 544.781 144.672 544.781 Q142.496 544.781 140.228 544.41 Q137.982 544.04 135.575 543.299 L135.575 538.6 Q137.658 539.734 139.881 540.29 Q142.103 540.845 144.58 540.845 Q148.584 540.845 150.922 538.739 Q153.26 536.632 153.26 533.021 Q153.26 529.41 150.922 527.304 Q148.584 525.197 144.58 525.197 Q142.705 525.197 140.83 525.614 Q138.978 526.031 137.033 526.91 L137.033 509.549 Z\" fill=\"#000000\" fill-rule=\"evenodd\" fill-opacity=\"1\" /><path clip-path=\"url(#clip330)\" d=\"M91.5706 300.157 L99.2095 300.157 L99.2095 273.792 L90.8993 275.459 L90.8993 271.199 L99.1632 269.533 L103.839 269.533 L103.839 300.157 L111.478 300.157 L111.478 304.093 L91.5706 304.093 L91.5706 300.157 Z\" fill=\"#000000\" fill-rule=\"evenodd\" fill-opacity=\"1\" /><path clip-path=\"url(#clip330)\" d=\"M120.922 298.213 L125.807 298.213 L125.807 304.093 L120.922 304.093 L120.922 298.213 Z\" fill=\"#000000\" fill-rule=\"evenodd\" fill-opacity=\"1\" /><path clip-path=\"url(#clip330)\" d=\"M145.992 272.611 Q142.381 272.611 140.552 276.176 Q138.746 279.718 138.746 286.847 Q138.746 293.954 140.552 297.519 Q142.381 301.06 145.992 301.06 Q149.626 301.06 151.431 297.519 Q153.26 293.954 153.26 286.847 Q153.26 279.718 151.431 276.176 Q149.626 272.611 145.992 272.611 M145.992 268.908 Q151.802 268.908 154.857 273.514 Q157.936 278.097 157.936 286.847 Q157.936 295.574 154.857 300.181 Q151.802 304.764 145.992 304.764 Q140.181 304.764 137.103 300.181 Q134.047 295.574 134.047 286.847 Q134.047 278.097 137.103 273.514 Q140.181 268.908 145.992 268.908 Z\" fill=\"#000000\" fill-rule=\"evenodd\" fill-opacity=\"1\" /><polyline clip-path=\"url(#clip332)\" style=\"stroke:#ff0000; stroke-linecap:butt; stroke-linejoin:round; stroke-width:4; stroke-opacity:1; fill:none\" points=\"\n",
       "  793.313,1246.88 1753.38,1246.88 1753.38,286.813 793.313,286.813 793.313,1246.88 \n",
       "  \"/>\n",
       "<polyline clip-path=\"url(#clip332)\" style=\"stroke:#008000; stroke-linecap:butt; stroke-linejoin:round; stroke-width:4; stroke-opacity:1; fill:none\" points=\"\n",
       "  1952.22,766.846 1918.99,557.064 1822.56,367.816 1672.38,217.629 1483.13,121.203 1273.35,87.9763 1063.56,121.203 874.316,217.629 724.129,367.816 627.702,557.064 \n",
       "  594.476,766.846 627.702,976.628 724.129,1165.88 874.316,1316.06 1063.56,1412.49 1273.35,1445.72 1483.13,1412.49 1672.38,1316.06 1822.56,1165.88 1918.99,976.628 \n",
       "  1952.22,766.846 \n",
       "  \"/>\n",
       "<circle clip-path=\"url(#clip332)\" cx=\"1753.38\" cy=\"286.811\" r=\"18\" fill=\"#ffa500\" fill-rule=\"evenodd\" fill-opacity=\"1\" stroke=\"#000000\" stroke-opacity=\"1\" stroke-width=\"3.2\"/>\n",
       "<path clip-path=\"url(#clip330)\" d=\"\n",
       "M265.897 302.578 L558.775 302.578 L558.775 95.2176 L265.897 95.2176  Z\n",
       "  \" fill=\"#ffffff\" fill-rule=\"evenodd\" fill-opacity=\"1\"/>\n",
       "<polyline clip-path=\"url(#clip330)\" style=\"stroke:#000000; stroke-linecap:butt; stroke-linejoin:round; stroke-width:4; stroke-opacity:1; fill:none\" points=\"\n",
       "  265.897,302.578 558.775,302.578 558.775,95.2176 265.897,95.2176 265.897,302.578 \n",
       "  \"/>\n",
       "<polyline clip-path=\"url(#clip330)\" style=\"stroke:#ff0000; stroke-linecap:butt; stroke-linejoin:round; stroke-width:4; stroke-opacity:1; fill:none\" points=\"\n",
       "  289.884,147.058 433.805,147.058 \n",
       "  \"/>\n",
       "<path clip-path=\"url(#clip330)\" d=\"M471.634 166.745 Q469.829 171.375 468.116 172.787 Q466.403 174.199 463.532 174.199 L460.13 174.199 L460.13 170.634 L462.63 170.634 Q464.389 170.634 465.361 169.8 Q466.333 168.967 467.514 165.865 L468.278 163.921 L457.792 138.412 L462.306 138.412 L470.407 158.689 L478.509 138.412 L483.023 138.412 L471.634 166.745 Z\" fill=\"#000000\" fill-rule=\"evenodd\" fill-opacity=\"1\" /><path clip-path=\"url(#clip330)\" d=\"M490.315 160.402 L497.954 160.402 L497.954 134.037 L489.643 135.703 L489.643 131.444 L497.907 129.778 L502.583 129.778 L502.583 160.402 L510.222 160.402 L510.222 164.338 L490.315 164.338 L490.315 160.402 Z\" fill=\"#000000\" fill-rule=\"evenodd\" fill-opacity=\"1\" /><polyline clip-path=\"url(#clip330)\" style=\"stroke:#008000; stroke-linecap:butt; stroke-linejoin:round; stroke-width:4; stroke-opacity:1; fill:none\" points=\"\n",
       "  289.884,198.898 433.805,198.898 \n",
       "  \"/>\n",
       "<path clip-path=\"url(#clip330)\" d=\"M471.634 218.585 Q469.829 223.215 468.116 224.627 Q466.403 226.039 463.532 226.039 L460.13 226.039 L460.13 222.474 L462.63 222.474 Q464.389 222.474 465.361 221.64 Q466.333 220.807 467.514 217.705 L468.278 215.761 L457.792 190.252 L462.306 190.252 L470.407 210.529 L478.509 190.252 L483.023 190.252 L471.634 218.585 Z\" fill=\"#000000\" fill-rule=\"evenodd\" fill-opacity=\"1\" /><path clip-path=\"url(#clip330)\" d=\"M493.532 212.242 L509.852 212.242 L509.852 216.178 L487.907 216.178 L487.907 212.242 Q490.569 209.488 495.153 204.858 Q499.759 200.205 500.94 198.863 Q503.185 196.34 504.065 194.604 Q504.967 192.844 504.967 191.155 Q504.967 188.4 503.023 186.664 Q501.102 184.928 498 184.928 Q495.801 184.928 493.347 185.692 Q490.917 186.455 488.139 188.006 L488.139 183.284 Q490.963 182.15 493.417 181.571 Q495.87 180.993 497.907 180.993 Q503.278 180.993 506.472 183.678 Q509.666 186.363 509.666 190.854 Q509.666 192.983 508.856 194.905 Q508.069 196.803 505.963 199.395 Q505.384 200.067 502.282 203.284 Q499.18 206.479 493.532 212.242 Z\" fill=\"#000000\" fill-rule=\"evenodd\" fill-opacity=\"1\" /><circle clip-path=\"url(#clip330)\" cx=\"361.844\" cy=\"250.738\" r=\"23\" fill=\"#ffa500\" fill-rule=\"evenodd\" fill-opacity=\"1\" stroke=\"#000000\" stroke-opacity=\"1\" stroke-width=\"4.096\"/>\n",
       "<path clip-path=\"url(#clip330)\" d=\"M471.634 270.425 Q469.829 275.055 468.116 276.467 Q466.403 277.879 463.532 277.879 L460.13 277.879 L460.13 274.314 L462.63 274.314 Q464.389 274.314 465.361 273.48 Q466.333 272.647 467.514 269.545 L468.278 267.601 L457.792 242.092 L462.306 242.092 L470.407 262.369 L478.509 242.092 L483.023 242.092 L471.634 270.425 Z\" fill=\"#000000\" fill-rule=\"evenodd\" fill-opacity=\"1\" /><path clip-path=\"url(#clip330)\" d=\"M503.671 249.383 Q507.028 250.101 508.903 252.369 Q510.801 254.638 510.801 257.971 Q510.801 263.087 507.282 265.888 Q503.764 268.689 497.282 268.689 Q495.106 268.689 492.792 268.249 Q490.5 267.832 488.046 266.976 L488.046 262.462 Q489.991 263.596 492.305 264.175 Q494.62 264.754 497.143 264.754 Q501.542 264.754 503.833 263.018 Q506.148 261.281 506.148 257.971 Q506.148 254.916 503.995 253.203 Q501.866 251.467 498.046 251.467 L494.018 251.467 L494.018 247.624 L498.231 247.624 Q501.68 247.624 503.509 246.258 Q505.338 244.87 505.338 242.277 Q505.338 239.615 503.44 238.203 Q501.565 236.768 498.046 236.768 Q496.125 236.768 493.926 237.184 Q491.727 237.601 489.088 238.481 L489.088 234.314 Q491.75 233.573 494.065 233.203 Q496.403 232.833 498.463 232.833 Q503.787 232.833 506.889 235.263 Q509.991 237.67 509.991 241.791 Q509.991 244.661 508.347 246.652 Q506.704 248.62 503.671 249.383 Z\" fill=\"#000000\" fill-rule=\"evenodd\" fill-opacity=\"1\" /></svg>\n"
      ]
     },
     "execution_count": 188,
     "metadata": {},
     "output_type": "execute_result"
    }
   ],
   "source": [
    "plot([-1,1,1,-1,-1], [-1,-1,1,1,-1], color=:red, aspect_ratio=:equal, legend=:topleft)\n",
    "plot!(cos.(π.*(0:0.1:2)).*√2, sin.(π.*(0:0.1:2)).*√2, color=:green)\n",
    "scatter!([x.value[1],], [x.value[2],], color=:orange, markersize=5)"
   ]
  },
  {
   "cell_type": "code",
   "execution_count": 189,
   "metadata": {},
   "outputs": [
    {
     "name": "stdout",
     "output_type": "stream",
     "text": [
      "1.4142182746781347 1.4142135623730951\n"
     ]
    }
   ],
   "source": [
    "println(Convex.norm(x.value), \" \", √2)"
   ]
  },
  {
   "cell_type": "code",
   "execution_count": null,
   "metadata": {},
   "outputs": [],
   "source": []
  },
  {
   "cell_type": "code",
   "execution_count": null,
   "metadata": {},
   "outputs": [],
   "source": []
  }
 ],
 "metadata": {
  "kernelspec": {
   "display_name": "Julia 1.6.0",
   "language": "julia",
   "name": "julia-1.6"
  },
  "language_info": {
   "file_extension": ".jl",
   "mimetype": "application/julia",
   "name": "julia",
   "version": "1.6.0"
  }
 },
 "nbformat": 4,
 "nbformat_minor": 2
}
